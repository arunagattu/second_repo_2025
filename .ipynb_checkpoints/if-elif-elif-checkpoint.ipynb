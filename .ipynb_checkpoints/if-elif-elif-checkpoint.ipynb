{
 "cells": [
  {
   "cell_type": "code",
   "execution_count": 9,
   "id": "bf1c4126-d56e-461e-9500-0d835be49891",
   "metadata": {},
   "outputs": [
    {
     "name": "stdin",
     "output_type": "stream",
     "text": [
      "Enter the number 3\n"
     ]
    },
    {
     "name": "stdout",
     "output_type": "stream",
     "text": [
      "print three 3 t\n"
     ]
    }
   ],
   "source": [
    "num1=eval(input(\"Enter the number\"))\n",
    "if num1==1:\n",
    "    print(\"print one\")\n",
    "elif num1==2:\n",
    "    print(f'print TWO {num1}')\n",
    "elif num1==3:\n",
    "     print(f'print three {num1} t')\n",
    "else:\n",
    "    print(\"enter a valid number\")\n",
    "\n",
    "    "
   ]
  },
  {
   "cell_type": "code",
   "execution_count": 21,
   "id": "a7c6a624-46bd-40f0-be64-9bbec1224143",
   "metadata": {},
   "outputs": [
    {
     "name": "stdin",
     "output_type": "stream",
     "text": [
      "Enter the marks 95\n"
     ]
    },
    {
     "name": "stdout",
     "output_type": "stream",
     "text": [
      "print A grade\n"
     ]
    }
   ],
   "source": [
    "Marks=eval(input(\"Enter the marks\"))\n",
    "if Marks>90:\n",
    "    print(f'print A grade')\n",
    "elif  70 < Marks <90:\n",
    "    print(f'print B grade')\n",
    "elif  50 < Marks <70:\n",
    "    print(f'print C grade')\n",
    "elif  35 < Marks < 50:\n",
    "    print(f'print D grade')\n",
    "else:\n",
    "    print('fail')\n",
    "\n",
    "    \n",
    "\n",
    "    \n"
   ]
  },
  {
   "cell_type": "code",
   "execution_count": 23,
   "id": "718dfe65-5b7a-4964-8d46-232727757a13",
   "metadata": {},
   "outputs": [
    {
     "name": "stdin",
     "output_type": "stream",
     "text": [
      "Enter the marks 44\n"
     ]
    },
    {
     "name": "stdout",
     "output_type": "stream",
     "text": [
      "fail\n"
     ]
    }
   ],
   "source": [
    "Marks=eval(input(\"Enter the marks\"))\n",
    "if Marks>90:\n",
    "    print(f'print A grade')\n",
    "elif  Marks>=90:\n",
    "    print(f'print B grade')\n",
    "elif Marks >=70:\n",
    "    print(f'print C grade')\n",
    "elif   Marks >=50:\n",
    "    print(f'print D grade')\n",
    "else:\n",
    "    print('fail')"
   ]
  },
  {
   "cell_type": "code",
   "execution_count": 34,
   "id": "9750c5f4-7438-4c87-a430-ce41bf94dafa",
   "metadata": {},
   "outputs": [
    {
     "name": "stdin",
     "output_type": "stream",
     "text": [
      "Enter the age 70\n"
     ]
    },
    {
     "name": "stdout",
     "output_type": "stream",
     "text": [
      "you are ss\n"
     ]
    }
   ],
   "source": [
    "age=eval(input(\"Enter the age\"))\n",
    "if age>100:\n",
    "    print('you are unlucky')\n",
    "elif age>=80:\n",
    "    print('you are old guy')\n",
    "elif age>=60:\n",
    "    print('you are ss')\n",
    "elif age>=40:\n",
    "    print('you are MA')\n",
    "elif age>=20:\n",
    "    print('you are young')\n",
    "elif age>=10:\n",
    "    print('you are teenage')\n",
    "else:\n",
    "    print('kid')\n",
    "\n",
    "    \n"
   ]
  },
  {
   "cell_type": "code",
   "execution_count": 97,
   "id": "2821811a-8f14-46d8-a08e-684f91d07bc9",
   "metadata": {},
   "outputs": [
    {
     "name": "stdin",
     "output_type": "stream",
     "text": [
      "Enter the gender male\n",
      "Enter the age 35\n"
     ]
    },
    {
     "name": "stdout",
     "output_type": "stream",
     "text": [
      "Enter the MAN\n"
     ]
    }
   ],
   "source": [
    "gender=input(\"Enter the gender\")\n",
    "if gender=='male':\n",
    "    age=eval(input('Enter the age'))\n",
    "    if age>=60:\n",
    "     print('Enter the SS')\n",
    "    elif age>=30:\n",
    "     print('Enter the MAN')\n",
    "    elif age>=15:\n",
    "     print('Enter the young man')\n",
    "    else:\n",
    "      print('boy')\n",
    "    \n",
    "elif gender=='female':\n",
    "    age=eval(input('Enter the age'))\n",
    "    if age>=60:\n",
    "     print('Enter the SS')\n",
    "    elif age>=30:\n",
    "     print('Enter the WOMAN')\n",
    "    elif age>=15:\n",
    "     print('Enter the young girl')\n",
    "else:\n",
    "      print('girl')\n",
    "    "
   ]
  },
  {
   "cell_type": "code",
   "execution_count": null,
   "id": "0520d8d2-4faa-4424-b18d-0b1beb82340e",
   "metadata": {},
   "outputs": [],
   "source": []
  },
  {
   "cell_type": "markdown",
   "id": "365f2b69-96ad-4688-b6fd-7a9172ff787c",
   "metadata": {},
   "source": [
    "#### gender=input(\"Enter the gender\")\n",
    "if gender=='female':\n",
    "    age=eval(input('Enter the age'))\n",
    "    if age>=60:\n",
    "     print('Enter the SS')\n",
    "    elif age>=30:\n",
    "     print('Enter the WOMAN')\n",
    "    elif age>=15:\n",
    "     print('Enter the young girl')\n",
    "else:\n",
    "    print('girl')"
   ]
  },
  {
   "cell_type": "code",
   "execution_count": 80,
   "id": "c1e6f9ca-185a-4671-b15f-e65c80646abb",
   "metadata": {},
   "outputs": [
    {
     "name": "stdin",
     "output_type": "stream",
     "text": [
      "Enter the number 0\n"
     ]
    },
    {
     "name": "stdout",
     "output_type": "stream",
     "text": [
      "zero\n"
     ]
    }
   ],
   "source": [
    "number=eval(input('Enter the number'))\n",
    "if number>=0:\n",
    "    if number>0:\n",
    "        print(\"positive\")\n",
    "    else:\n",
    "        print(\"zero\")\n",
    "else:\n",
    "     print('negative')"
   ]
  },
  {
   "cell_type": "code",
   "execution_count": 91,
   "id": "1c3a8eaf-6008-4013-9048-a89f18abe3b1",
   "metadata": {},
   "outputs": [
    {
     "name": "stdout",
     "output_type": "stream",
     "text": [
      "Enter 1 for the addition\n",
      "Enter 2 for the subtraction\n",
      "Enter 3 for the multiplication\n",
      "Enter 4 for the division\n"
     ]
    },
    {
     "name": "stdin",
     "output_type": "stream",
     "text": [
      "Enter the number between 1 to 4 operation 3\n",
      "enter the number 4\n",
      "enter the number 5\n"
     ]
    },
    {
     "name": "stdout",
     "output_type": "stream",
     "text": [
      "this is mulitplication 20\n"
     ]
    }
   ],
   "source": [
    "print(\"Enter 1 for the addition\")\n",
    "print(\"Enter 2 for the subtraction\")\n",
    "print(\"Enter 3 for the multiplication\")\n",
    "print(\"Enter 4 for the division\")\n",
    "operation=eval(input('Enter the number between 1 to 4 operation'))\n",
    "if operation==1:\n",
    "    n1=eval(input(\"enter the number\"))\n",
    "    n2=eval(input(\"enter the number\"))\n",
    "    n3=n1+n2\n",
    "    print(f'this is additon {n3}')\n",
    "elif operation==2:\n",
    "     n1=eval(input(\"enter the number\"))\n",
    "     n2=eval(input(\"enter the number\"))\n",
    "     n3=n1-n2\n",
    "     print(f'this is subtraction {n3}')\n",
    "elif operation==3:\n",
    "     n1=eval(input(\"enter the number\"))\n",
    "     n2=eval(input(\"enter the number\"))\n",
    "     n3=n1*n2\n",
    "     print(f'this is mulitplication {n3}')\n",
    "elif operation==4:\n",
    "     n1=eval(input(\"enter the number\"))\n",
    "     n2=eval(input(\"enter the number\"))\n",
    "     n3=n1/n2\n",
    "     print(f'this is division {n3}')\n",
    "else:\n",
    "    print(\"invalid operator\")\n",
    "\n",
    "    \n",
    "    \n",
    "    \n",
    "\n"
   ]
  },
  {
   "cell_type": "code",
   "execution_count": null,
   "id": "352d354f-e349-4c82-97df-dcb6d7fb5c31",
   "metadata": {},
   "outputs": [],
   "source": []
  }
 ],
 "metadata": {
  "kernelspec": {
   "display_name": "Python [conda env:base] *",
   "language": "python",
   "name": "conda-base-py"
  },
  "language_info": {
   "codemirror_mode": {
    "name": "ipython",
    "version": 3
   },
   "file_extension": ".py",
   "mimetype": "text/x-python",
   "name": "python",
   "nbconvert_exporter": "python",
   "pygments_lexer": "ipython3",
   "version": "3.12.7"
  }
 },
 "nbformat": 4,
 "nbformat_minor": 5
}
