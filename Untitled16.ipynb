{
 "cells": [
  {
   "cell_type": "code",
   "execution_count": 21,
   "id": "eb36ab93-8db8-4411-8c8e-6cf0f81e4119",
   "metadata": {},
   "outputs": [
    {
     "name": "stdout",
     "output_type": "stream",
     "text": [
      "Merit\n"
     ]
    }
   ],
   "source": [
    "score = 50\n",
    "\n",
    "if score < 70:\n",
    "    if score < 50:\n",
    "        print('Fail')\n",
    "    else:\n",
    "        print('Merit')\n",
    "else:\n",
    "    print('Distinction')"
   ]
  },
  {
   "cell_type": "code",
   "execution_count": 34,
   "id": "d601f162-10b5-4e1c-8293-2f0b37365086",
   "metadata": {},
   "outputs": [
    {
     "name": "stdout",
     "output_type": "stream",
     "text": [
      "this is delected in one of the friends\n",
      "this is in nt in friends index\n",
      "this is in nt in friends index\n",
      "this is in nt in friends index\n",
      "this is in nt in friends index\n"
     ]
    }
   ],
   "source": [
    "import random\n",
    "friends=[\"koustubh\",\"shloka\",\"bindu\",\"trest\"]\n",
    "for index in range(5):\n",
    "    if index==0:\n",
    "        print(f\"this is delected in one of the friends\")\n",
    "    else:\n",
    "        print(f\"this is in nt in friends index\")"
   ]
  },
  {
   "cell_type": "code",
   "execution_count": 19,
   "id": "bcd015cd-eb4e-44fa-b638-34e40c473f84",
   "metadata": {},
   "outputs": [
    {
     "name": "stdout",
     "output_type": "stream",
     "text": [
      "koustubh 0\n",
      "shloka 1\n",
      "bindu 2\n",
      "trest 3\n"
     ]
    }
   ],
   "source": [
    "\n",
    "friends=[\"koustubh\",\"shloka\",\"bindu\",\"trest\"]\n",
    "n=len(friends)\n",
    "for index in range(0,n):\n",
    "    print(friends[index],index)\n"
   ]
  },
  {
   "cell_type": "code",
   "execution_count": 77,
   "id": "ee2ec74d-e96f-461d-858f-fe5361d735e8",
   "metadata": {},
   "outputs": [
    {
     "ename": "NameError",
     "evalue": "name 'a' is not defined",
     "output_type": "error",
     "traceback": [
      "\u001b[0;31m---------------------------------------------------------------------------\u001b[0m",
      "\u001b[0;31mNameError\u001b[0m                                 Traceback (most recent call last)",
      "Cell \u001b[0;32mIn[77], line 11\u001b[0m\n\u001b[1;32m      9\u001b[0m     \u001b[38;5;28;01mexcept\u001b[39;00m \u001b[38;5;167;01mException\u001b[39;00m \u001b[38;5;28;01mas\u001b[39;00m e:\n\u001b[1;32m     10\u001b[0m           \u001b[38;5;28mprint\u001b[39m(e)\n\u001b[0;32m---> 11\u001b[0m \u001b[38;5;28mprint\u001b[39m(a\u001b[38;5;241m+\u001b[39mb)\n\u001b[1;32m     12\u001b[0m test(\u001b[38;5;241m10\u001b[39m,\u001b[38;5;241m20\u001b[39m)\n",
      "\u001b[0;31mNameError\u001b[0m: name 'a' is not defined"
     ]
    }
   ],
   "source": [
    "def test(a,b):\n",
    "    try:\n",
    "        n1=eval(input(\"enter the number\"))\n",
    "        if n1%2==0:\n",
    "            print(f\"{n1}it is even number\")\n",
    "        else:\n",
    "            print(f\"{n1}it is odd number\")\n",
    "    \n",
    "    except Exception as e:\n",
    "          print(e)\n",
    "print(a+b)\n",
    "test(10,20)\n",
    "        \n",
    "\n"
   ]
  },
  {
   "cell_type": "code",
   "execution_count": 66,
   "id": "f240b220-db7d-4c3b-8cc3-91e0fb764491",
   "metadata": {},
   "outputs": [
    {
     "name": "stdin",
     "output_type": "stream",
     "text": [
      "enter the number 20\n"
     ]
    },
    {
     "name": "stdout",
     "output_type": "stream",
     "text": [
      "20 is an even\n"
     ]
    }
   ],
   "source": [
    "try:\n",
    "    n1=eval(input(\"enter the number\"))\n",
    "    if n1%2==0:\n",
    "        print(f\"{n1} is an even\")\n",
    "    else:\n",
    "        print(f\"{n1} is an odd\")\n",
    "except Exception as e:\n",
    "    print(e)\n",
    "   "
   ]
  },
  {
   "cell_type": "code",
   "execution_count": 81,
   "id": "666a5e49-3759-4d7d-8f9c-67067e103414",
   "metadata": {},
   "outputs": [
    {
     "name": "stdin",
     "output_type": "stream",
     "text": [
      "enter the number 20\n"
     ]
    },
    {
     "name": "stdout",
     "output_type": "stream",
     "text": [
      "40.0\n"
     ]
    }
   ],
   "source": [
    "def test1(a,b,c):\n",
    "    n1=eval(input(\"enter the number\"))\n",
    "    try:\n",
    "        if n1>10:\n",
    "            add=(a+b+c)/3\n",
    "            print(add)\n",
    "        else:\n",
    "            print(invalid)\n",
    "    except Exception as e:\n",
    "         print(e)\n",
    "test1(10,20,90)\n",
    "            "
   ]
  },
  {
   "cell_type": "code",
   "execution_count": 85,
   "id": "e428336c-f5eb-46b7-af23-55269e50e049",
   "metadata": {},
   "outputs": [
    {
     "name": "stdin",
     "output_type": "stream",
     "text": [
      "enter the number 20\n"
     ]
    },
    {
     "name": "stdout",
     "output_type": "stream",
     "text": [
      "40.0\n"
     ]
    }
   ],
   "source": [
    "def test1(a,b,c=10):\n",
    "    n1=eval(input(\"enter the number\"))\n",
    "    try:\n",
    "        if n1>10:\n",
    "            add=(a+b+c)/3\n",
    "            print(add)\n",
    "        else:\n",
    "            print(invalid)\n",
    "    except Exception as e:\n",
    "         print(e)\n",
    "test1(10,20,90)"
   ]
  },
  {
   "cell_type": "code",
   "execution_count": null,
   "id": "22b05690-1de9-40fc-85a0-e59f2c952037",
   "metadata": {},
   "outputs": [],
   "source": [
    "output=["
   ]
  }
 ],
 "metadata": {
  "kernelspec": {
   "display_name": "Python [conda env:base] *",
   "language": "python",
   "name": "conda-base-py"
  },
  "language_info": {
   "codemirror_mode": {
    "name": "ipython",
    "version": 3
   },
   "file_extension": ".py",
   "mimetype": "text/x-python",
   "name": "python",
   "nbconvert_exporter": "python",
   "pygments_lexer": "ipython3",
   "version": "3.12.7"
  }
 },
 "nbformat": 4,
 "nbformat_minor": 5
}
