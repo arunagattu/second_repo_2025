{
 "cells": [
  {
   "cell_type": "code",
   "execution_count": 5,
   "id": "e139db51-3265-4658-8492-19a967b46eae",
   "metadata": {},
   "outputs": [
    {
     "name": "stdout",
     "output_type": "stream",
     "text": [
      "20\n",
      "good day\n",
      "good night\n",
      "2.0055930614471436\n"
     ]
    }
   ],
   "source": [
    "import random\n",
    "import math\n",
    "import time\n",
    "\n",
    "result=random.randint(1,100)\n",
    "print(math.ceil(result))\n",
    "start=time.time()\n",
    "print(\"good day\")\n",
    "time.sleep(2)\n",
    "print(\"good night\")\n",
    "end=time.time()\n",
    "print(end-start)\n"
   ]
  },
  {
   "cell_type": "code",
   "execution_count": null,
   "id": "1e919fba-21af-4c77-b516-42027f3d63fa",
   "metadata": {},
   "outputs": [],
   "source": []
  },
  {
   "cell_type": "code",
   "execution_count": 3,
   "id": "fdcc6853-4672-472f-932d-63690d545a61",
   "metadata": {},
   "outputs": [
    {
     "name": "stdout",
     "output_type": "stream",
     "text": [
      "3.0\n"
     ]
    }
   ],
   "source": [
    "import random\n",
    "import math\n",
    "\n",
    "n1=random.randint(1,10)\n",
    "n2=random.randint(1,5)\n",
    "n3=random.randint(2,4)\n",
    "\n",
    "result=(n1+n2+n3)/3\n",
    "print(result)\n",
    "        \n",
    "\n",
    "\n",
    " "
   ]
  },
  {
   "cell_type": "code",
   "execution_count": 15,
   "id": "8f0d4712-6747-42af-b443-c1adf8cf9b05",
   "metadata": {},
   "outputs": [
    {
     "name": "stdin",
     "output_type": "stream",
     "text": [
      "Enter the name shloka\n",
      "Enter the city name:  hyd\n"
     ]
    },
    {
     "name": "stdout",
     "output_type": "stream",
     "text": [
      "hello this is my name: shloka i am 9 old and came from hyd\n"
     ]
    }
   ],
   "source": [
    "import random\n",
    "\n",
    "name=input(\"Enter the name\")\n",
    "age=random.randint(1,10)\n",
    "city=input(\"Enter the city name: \")\n",
    "\n",
    "print(f\"hello this is my name: {name} i am {age} old and came from {city}\")\n",
    "\n"
   ]
  },
  {
   "cell_type": "code",
   "execution_count": 33,
   "id": "79d1f773-854a-4786-8247-f05147e9c6a2",
   "metadata": {},
   "outputs": [
    {
     "name": "stdout",
     "output_type": "stream",
     "text": [
      "this is answer for volume of sphere:  15829\n"
     ]
    }
   ],
   "source": [
    "import math\n",
    "radius=random.randint(1,100)\n",
    "pi=3.14\n",
    "vol_of_sphere=math.ceil(pi*radius*radius)\n",
    "print(\"this is answer for volume of sphere: \",vol_of_sphere)"
   ]
  },
  {
   "cell_type": "code",
   "execution_count": 23,
   "id": "00917f59-f751-4681-9f1e-cbc06b7e3017",
   "metadata": {},
   "outputs": [
    {
     "name": "stdout",
     "output_type": "stream",
     "text": [
      "total lenght and breadth cal :  12.0\n"
     ]
    }
   ],
   "source": [
    "import random\n",
    "length=random.randint(1,10)\n",
    "breadth=random.randint(2,5)\n",
    "formula=math.ceil(0.5*length*breadth)\n",
    "print(\"total lenght and breadth cal : \", formula)\n",
    "\n"
   ]
  },
  {
   "cell_type": "code",
   "execution_count": 35,
   "id": "4be629f3-4683-4852-bd53-2e43066684cf",
   "metadata": {},
   "outputs": [
    {
     "name": "stdout",
     "output_type": "stream",
     "text": [
      "this is all amount 90\n"
     ]
    }
   ],
   "source": [
    "import random\n",
    "import math\n",
    "\n",
    "bill_amount=random.randint(1,100)\n",
    "Tip_amount=random.randint(1,10)\n",
    "total_amount=math.ceil(bill_amount+bill_amount*(Tip_amount/100))\n",
    "print(\"this is all amount\",total_amount)"
   ]
  },
  {
   "cell_type": "code",
   "execution_count": 27,
   "id": "04f6ad2a-bde9-4706-8a03-647e4a587196",
   "metadata": {},
   "outputs": [
    {
     "name": "stdout",
     "output_type": "stream",
     "text": [
      "total lenght and breadth cal :  45\n"
     ]
    }
   ],
   "source": [
    "import random\n",
    "length=random.randint(1,10)\n",
    "breadth=random.randint(2,5)\n",
    "formula=length*breadth\n",
    "print(\"total lenght and breadth cal : \", formula)\n",
    "\n"
   ]
  },
  {
   "cell_type": "code",
   "execution_count": 37,
   "id": "f0768b9f-1a9c-4dd7-98bc-8ffa4b529487",
   "metadata": {},
   "outputs": [
    {
     "name": "stdout",
     "output_type": "stream",
     "text": [
      "this is answer  34\n"
     ]
    }
   ],
   "source": [
    "import random\n",
    "import math\n",
    "\n",
    "r=random.randint(1,3)\n",
    "vol_of_sphere=math.ceil(4.0/3.0 * math.pi * (r*r*r))\n",
    "print(\"this is answer \",vol_of_sphere)"
   ]
  },
  {
   "cell_type": "code",
   "execution_count": 39,
   "id": "9b3d4a38-26e7-482f-a00b-e53601c106c1",
   "metadata": {},
   "outputs": [
    {
     "name": "stdout",
     "output_type": "stream",
     "text": [
      "converting kgs to pounds enter the number : 5\n"
     ]
    }
   ],
   "source": [
    "import random\n",
    "import math\n",
    "\n",
    "kg_weight=random.randrange(1,5)\n",
    "pound_value=math.ceil(kg_weight*2.2)\n",
    "print(\"converting kgs to pounds enter the number :\", pound_value)\n",
    "\n",
    "\n"
   ]
  },
  {
   "cell_type": "code",
   "execution_count": 43,
   "id": "681523ab-c455-4521-a22f-3d898accaf29",
   "metadata": {},
   "outputs": [
    {
     "name": "stdout",
     "output_type": "stream",
     "text": [
      "convertion usd to rupess 425\n"
     ]
    }
   ],
   "source": [
    "\n",
    "import random\n",
    "usd=random.randint(2,5)\n",
    "rupees=math.ceil(usd*85)\n",
    "print(\"convertion usd to rupess\",rupees)\n"
   ]
  },
  {
   "cell_type": "code",
   "execution_count": null,
   "id": "07e0e4de-b0dc-4d72-a10b-0556224c5499",
   "metadata": {},
   "outputs": [],
   "source": []
  }
 ],
 "metadata": {
  "kernelspec": {
   "display_name": "Python [conda env:base] *",
   "language": "python",
   "name": "conda-base-py"
  },
  "language_info": {
   "codemirror_mode": {
    "name": "ipython",
    "version": 3
   },
   "file_extension": ".py",
   "mimetype": "text/x-python",
   "name": "python",
   "nbconvert_exporter": "python",
   "pygments_lexer": "ipython3",
   "version": "3.12.7"
  }
 },
 "nbformat": 4,
 "nbformat_minor": 5
}
