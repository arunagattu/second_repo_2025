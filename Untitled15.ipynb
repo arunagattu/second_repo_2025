{
 "cells": [
  {
   "cell_type": "code",
   "execution_count": null,
   "id": "1cdd93bc-9db1-4467-8852-db6db343cb73",
   "metadata": {},
   "outputs": [],
   "source": [
    "# son: hi papa\n",
    "# fa : hi beta\n",
    "# son: im going to school\n",
    "# fa: okay beta, i heared your results came out\n",
    "# son: yes papa\n",
    "# fa: then what about the result\n",
    "# son: lets play a game i will give the marks you tell me the perce\n",
    "# fa: exited\n",
    "# Telugu= random\n",
    "# hindi\n",
    "# end\n",
    "# maths\n",
    "# sci\n",
    "# soc\n",
    "# avg\n",
    "# display the avg"
   ]
  },
  {
   "cell_type": "code",
   "execution_count": 19,
   "id": "7f54c830-68db-4ec4-bbad-e9e6ca5d0124",
   "metadata": {},
   "outputs": [
    {
     "name": "stdout",
     "output_type": "stream",
     "text": [
      "son: hi papa \n",
      "fa : hi beta\n",
      "son: im going to school\n",
      "fa: okay beta, i heared your results came out\n",
      "son: yes papa\n",
      "fa: then what about the result\n",
      "son: lets play a game i will give the marks you tell me the perce\n",
      "fa: exited\n",
      "Telugu:5\n",
      "hindi:21\n",
      "english:16\n",
      "Maths:9\n",
      "science:29\n",
      "social:13\n",
      "this is average : 15.5\n"
     ]
    }
   ],
   "source": [
    "import random\n",
    "\n",
    "\n",
    "print(\"\"\"son: hi papa \n",
    "fa : hi beta\n",
    "son: im going to school\n",
    "fa: okay beta, i heared your results came out\n",
    "son: yes papa\n",
    "fa: then what about the result\n",
    "son: lets play a game i will give the marks you tell me the perce\n",
    "fa: exited\"\"\")\n",
    "telugu=random.randint(1,30)\n",
    "print(f\"Telugu:{telugu}\")\n",
    "hindi=random.randint(1,30)\n",
    "print(f\"hindi:{hindi}\")\n",
    "english=random.randint(1,30)\n",
    "print(f\"english:{english}\")\n",
    "Maths=random.randint(1,30)\n",
    "print(f\"Maths:{Maths}\")\n",
    "science=random.randint(1,30)\n",
    "print(f\"science:{science}\")\n",
    "social=random.randint(1,30)\n",
    "print(f\"social:{social}\")\n",
    "average=(telugu+hindi+english+Maths+science+social)/6\n",
    "print(f\"this is average : {average}\")\n",
    "\n",
    "\n",
    "\n",
    "\n"
   ]
  },
  {
   "cell_type": "code",
   "execution_count": null,
   "id": "11f0f5c3-3a8b-4318-b3b9-87f04c11a646",
   "metadata": {},
   "outputs": [],
   "source": []
  }
 ],
 "metadata": {
  "kernelspec": {
   "display_name": "Python [conda env:base] *",
   "language": "python",
   "name": "conda-base-py"
  },
  "language_info": {
   "codemirror_mode": {
    "name": "ipython",
    "version": 3
   },
   "file_extension": ".py",
   "mimetype": "text/x-python",
   "name": "python",
   "nbconvert_exporter": "python",
   "pygments_lexer": "ipython3",
   "version": "3.12.7"
  }
 },
 "nbformat": 4,
 "nbformat_minor": 5
}
