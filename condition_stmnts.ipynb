{
 "cells": [
  {
   "cell_type": "code",
   "execution_count": 4,
   "id": "2d787d12-fb4a-465f-9f2b-8e8a4d3be11f",
   "metadata": {},
   "outputs": [
    {
     "name": "stdout",
     "output_type": "stream",
     "text": [
      "True\n",
      "False\n",
      "False\n",
      "True\n",
      "False\n",
      "False\n"
     ]
    }
   ],
   "source": [
    "num=10 # it is assgnment\n",
    "print(num==10) #it is condition\n",
    "print(num>10)\n",
    "print(num<10)\n",
    "print(num>=10)\n",
    "print(num<10)\n",
    "print(num==100)"
   ]
  },
  {
   "cell_type": "code",
   "execution_count": 26,
   "id": "720ac4f9-1f1f-4095-a829-90b1f4268267",
   "metadata": {},
   "outputs": [
    {
     "name": "stdout",
     "output_type": "stream",
     "text": [
      "hello\n",
      "hello\n",
      "hello\n",
      "bye\n",
      "i am with conditon bye\n",
      "i am withut conditon bye\n"
     ]
    }
   ],
   "source": [
    "if bool(100):\n",
    "    print(\"hello\")\n",
    "if 100>10:\n",
    "    print(\"hello\")\n",
    "if True:\n",
    "    print(\"hello\")\n",
    "    print(\"bye\")\n",
    "    print(\"i am with conditon bye\")\n",
    "    #########\n",
    "print(\"i am withut conditon bye\")\n",
    "\n"
   ]
  },
  {
   "cell_type": "code",
   "execution_count": 22,
   "id": "27a9e6bc-76de-4e25-93c4-75390894d441",
   "metadata": {},
   "outputs": [
    {
     "ename": "SyntaxError",
     "evalue": "invalid syntax (348473614.py, line 1)",
     "output_type": "error",
     "traceback": [
      "\u001b[0;36m  Cell \u001b[0;32mIn[22], line 1\u001b[0;36m\u001b[0m\n\u001b[0;31m    indentation(GAP) error:when evr the line start with keyword at end  colon will be there\u001b[0m\n\u001b[0m                     ^\u001b[0m\n\u001b[0;31mSyntaxError\u001b[0m\u001b[0;31m:\u001b[0m invalid syntax\n"
     ]
    }
   ],
   "source": [
    "indentation(GAP) error:when evr the line start with keyword at end  colon will be there\n",
    "\n",
    "if is keyword and end give : and click enter\n",
    "if(100<10):\n",
    "    print(\"hello\")---condition false means no o/p and no error\n"
   ]
  },
  {
   "cell_type": "code",
   "execution_count": 32,
   "id": "932d88e4-10b7-4ad3-9986-233ae819aaae",
   "metadata": {},
   "outputs": [
    {
     "name": "stdout",
     "output_type": "stream",
     "text": [
      "1\n",
      "10000\n"
     ]
    }
   ],
   "source": [
    "print(1)\n",
    "print(10000)"
   ]
  },
  {
   "cell_type": "code",
   "execution_count": null,
   "id": "80083c0c-9228-445b-a186-ddd185b5ef69",
   "metadata": {},
   "outputs": [],
   "source": []
  }
 ],
 "metadata": {
  "kernelspec": {
   "display_name": "Python [conda env:base] *",
   "language": "python",
   "name": "conda-base-py"
  },
  "language_info": {
   "codemirror_mode": {
    "name": "ipython",
    "version": 3
   },
   "file_extension": ".py",
   "mimetype": "text/x-python",
   "name": "python",
   "nbconvert_exporter": "python",
   "pygments_lexer": "ipython3",
   "version": "3.12.7"
  }
 },
 "nbformat": 4,
 "nbformat_minor": 5
}
