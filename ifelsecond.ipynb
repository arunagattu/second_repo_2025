{
 "cells": [
  {
   "cell_type": "code",
   "execution_count": 3,
   "id": "079af6dd-b40f-437d-83c9-a92503ceb958",
   "metadata": {},
   "outputs": [
    {
     "name": "stdout",
     "output_type": "stream",
     "text": [
      "negative number\n"
     ]
    }
   ],
   "source": [
    "if 100>2000:\n",
    "    print(\"positive number\")\n",
    "else:\n",
    "    print(\"negative number\")"
   ]
  },
  {
   "cell_type": "code",
   "execution_count": 5,
   "id": "398ba0fc-6d97-4b6d-b63a-a014b793e313",
   "metadata": {},
   "outputs": [
    {
     "name": "stdout",
     "output_type": "stream",
     "text": [
      "positive number\n"
     ]
    }
   ],
   "source": [
    "n=100\n",
    "if n>0:\n",
    "   print(\"positive number\")\n",
    "else:\n",
    "    print(\"negative number\")"
   ]
  },
  {
   "cell_type": "code",
   "execution_count": 9,
   "id": "b6c48d4f-3f48-4e76-ac88-90c9d6779222",
   "metadata": {},
   "outputs": [
    {
     "name": "stdin",
     "output_type": "stream",
     "text": [
      "enter the number 2\n"
     ]
    },
    {
     "name": "stdout",
     "output_type": "stream",
     "text": [
      "positive number\n"
     ]
    }
   ],
   "source": [
    "n=eval(input(\"enter the number\"))\n",
    "if n>0:\n",
    "   print(\"positive number\")\n",
    "else:\n",
    "    print(\"negative number\")\n",
    "\n"
   ]
  },
  {
   "cell_type": "code",
   "execution_count": 28,
   "id": "a9559752-6a0f-4ff2-bcad-15fe42e1973c",
   "metadata": {},
   "outputs": [
    {
     "name": "stdout",
     "output_type": "stream",
     "text": [
      "-36 negative number\n"
     ]
    }
   ],
   "source": [
    "import random\n",
    "n=random.randint(-100,100)\n",
    "if n>0:\n",
    "   print(f'{n} positive number')\n",
    "else:\n",
    "    print(f'{n} negative number')\n",
    "\n"
   ]
  },
  {
   "cell_type": "code",
   "execution_count": 32,
   "id": "355a722f-796f-41b9-be5a-deeae6e755b5",
   "metadata": {},
   "outputs": [
    {
     "name": "stdout",
     "output_type": "stream",
     "text": [
      "hello\n",
      "it is postive number\n",
      "hello it is for testing\n",
      "it is another test\n",
      "testing multiple cases\n"
     ]
    }
   ],
   "source": [
    "print(\"hello\")\n",
    "if(100>0):\n",
    "    print(\"it is postive number\")\n",
    "    print(\"hello it is for testing\")\n",
    "if(10>0):\n",
    "    print(\"it is another test\")\n",
    "    print(\"testing multiple cases\")\n",
    "else:\n",
    "    print(\"it is over\")"
   ]
  },
  {
   "cell_type": "code",
   "execution_count": 120,
   "id": "494de373-a8a8-4f29-8845-4eaa169a8063",
   "metadata": {},
   "outputs": [
    {
     "name": "stdout",
     "output_type": "stream",
     "text": [
      "another test\n"
     ]
    },
    {
     "name": "stdin",
     "output_type": "stream",
     "text": [
      "enter the week sunday\n"
     ]
    },
    {
     "name": "stdout",
     "output_type": "stream",
     "text": [
      "wrong enter\n"
     ]
    }
   ],
   "source": [
    "print(\"another test\")\n",
    "week=input(\"enter the week\")\n",
    "if week=='monday':\n",
    "    print(\"today is  monday!\")\n",
    "else:\n",
    "    print(\"wrong enter\")\n"
   ]
  },
  {
   "cell_type": "code",
   "execution_count": 46,
   "id": "db4a671c-17a2-4e6a-b083-839f72456eac",
   "metadata": {},
   "outputs": [
    {
     "name": "stdin",
     "output_type": "stream",
     "text": [
      "enter the number 20\n",
      "enter the second numner 100\n"
     ]
    },
    {
     "name": "stdout",
     "output_type": "stream",
     "text": [
      "n2 is greatest number\n"
     ]
    }
   ],
   "source": [
    "\n",
    "n1=eval(input(\"enter the number\"))\n",
    "n2=eval(input(\"enter the second numner\"))\n",
    "if n1>n2:\n",
    "    print(\"n1 is the greatest number\")\n",
    "else:\n",
    "    print(\"n2 is greatest number\")"
   ]
  },
  {
   "cell_type": "code",
   "execution_count": 52,
   "id": "86abb04b-0e51-4ce3-a16c-5a6550be5fe9",
   "metadata": {},
   "outputs": [
    {
     "name": "stdout",
     "output_type": "stream",
     "text": [
      "n2 is greatest number\n"
     ]
    }
   ],
   "source": [
    "import random\n",
    "n2=random.randint(1,100)\n",
    "n4=random.randint(1,100)\n",
    "if n2>n4:\n",
    "    print(\"n1 is the greatest number\")\n",
    "else:\n",
    "    print(\"n2 is greatest number\")\n"
   ]
  },
  {
   "cell_type": "code",
   "execution_count": 62,
   "id": "3c866c21-d299-4ac0-b17b-b18d1bc9485d",
   "metadata": {},
   "outputs": [
    {
     "name": "stdin",
     "output_type": "stream",
     "text": [
      "enter the distance 222\n",
      "enter the charge per km 2\n"
     ]
    },
    {
     "name": "stdout",
     "output_type": "stream",
     "text": [
      "this is total charge 444INR\n"
     ]
    }
   ],
   "source": [
    "distance=eval(input(\"enter the distance\"))\n",
    "if distance>25:\n",
    "    charge=eval(input('enter the charge per km'))\n",
    "    total=distance * charge\n",
    "    print(f'this is total charge {total}INR')\n",
    "else:\n",
    "    print(\"free ride\")\n",
    "    "
   ]
  },
  {
   "cell_type": "code",
   "execution_count": 70,
   "id": "40cbefef-dc26-449b-9bb9-912ff4efe488",
   "metadata": {},
   "outputs": [
    {
     "name": "stdin",
     "output_type": "stream",
     "text": [
      "enter the distance  10\n",
      "enter the free_distance  2\n",
      "enter the charge per km 3\n"
     ]
    },
    {
     "name": "stdout",
     "output_type": "stream",
     "text": [
      "this is total cal24 kms\n"
     ]
    }
   ],
   "source": [
    "distance=eval(input('enter the distance '))\n",
    "free_distance=eval(input('enter the free_distance '))\n",
    "if distance>free_distance:\n",
    "    charge=eval(input('enter the charge per km'))\n",
    "    actual_distance=distance-free_distance\n",
    "    cal= actual_distance*charge\n",
    "    print(f'this is total cal{cal} kms')\n",
    "else:\n",
    "    print(\"free ride\")\n",
    "    \n",
    "    \n",
    "\n"
   ]
  },
  {
   "cell_type": "code",
   "execution_count": 92,
   "id": "e070cf06-b599-4f98-8ddd-521ef8388b4e",
   "metadata": {},
   "outputs": [
    {
     "name": "stdin",
     "output_type": "stream",
     "text": [
      "enter the number 5\n"
     ]
    },
    {
     "name": "stdout",
     "output_type": "stream",
     "text": [
      "you won!\n"
     ]
    }
   ],
   "source": [
    "import random\n",
    "n1=eval(input(\"enter the number\"))\n",
    "n2=random.randint(1,10)\n",
    "if n1==n2:\n",
    "    print(\"you won!\")\n",
    "else:\n",
    "    print(\"you lost !\")"
   ]
  },
  {
   "cell_type": "code",
   "execution_count": 104,
   "id": "6969f5f4-3a24-49a7-9f48-fa4e8857c1fc",
   "metadata": {},
   "outputs": [
    {
     "name": "stdin",
     "output_type": "stream",
     "text": [
      "enter the course 3adklsk\n",
      "enter the intuite name ajfnsal\n"
     ]
    },
    {
     "name": "stdout",
     "output_type": "stream",
     "text": [
      "katham zindagi\n"
     ]
    }
   ],
   "source": [
    "course_name=input(\"enter the course\")\n",
    "institute=input(\"enter the intuite name\")\n",
    "if course_name == 'datascience' and institute=='nareshit':\n",
    "    print(\"you are at safe place\")\n",
    "else:\n",
    "    print(\"katham zindagi\")"
   ]
  },
  {
   "cell_type": "code",
   "execution_count": 1,
   "id": "05ab620a-76e2-4db3-a635-04309cd6d834",
   "metadata": {},
   "outputs": [
    {
     "name": "stdin",
     "output_type": "stream",
     "text": [
      "enter the number 5\n"
     ]
    },
    {
     "name": "stdout",
     "output_type": "stream",
     "text": [
      "it is odd number\n"
     ]
    }
   ],
   "source": [
    "n1=eval(input(\"enter the number\"))\n",
    "\n",
    "if n1%2==0:\n",
    "    print('it is even number')\n",
    "else:\n",
    "      print('it is odd number')"
   ]
  },
  {
   "cell_type": "code",
   "execution_count": null,
   "id": "373b9509-1ffc-4004-903e-49d0e14bcd89",
   "metadata": {},
   "outputs": [],
   "source": []
  }
 ],
 "metadata": {
  "kernelspec": {
   "display_name": "Python [conda env:base] *",
   "language": "python",
   "name": "conda-base-py"
  },
  "language_info": {
   "codemirror_mode": {
    "name": "ipython",
    "version": 3
   },
   "file_extension": ".py",
   "mimetype": "text/x-python",
   "name": "python",
   "nbconvert_exporter": "python",
   "pygments_lexer": "ipython3",
   "version": "3.12.7"
  }
 },
 "nbformat": 4,
 "nbformat_minor": 5
}
